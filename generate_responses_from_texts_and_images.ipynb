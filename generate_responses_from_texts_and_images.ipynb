{
 "cells": [
  {
   "cell_type": "code",
   "execution_count": 1,
   "id": "c3c28390-32fa-49fd-83a7-557881c31067",
   "metadata": {},
   "outputs": [],
   "source": [
    "import google.generativeai as genai\n",
    "import os\n",
    "from dotenv import load_dotenv, find_dotenv"
   ]
  },
  {
   "cell_type": "markdown",
   "id": "90642b2d-3ea2-4b13-8f27-e11166ec4c37",
   "metadata": {},
   "source": [
    "# to find the .env file and then to load the env vars inside it"
   ]
  },
  {
   "cell_type": "code",
   "execution_count": 2,
   "id": "91a608d2-3842-41b2-963f-17378be838f2",
   "metadata": {},
   "outputs": [],
   "source": [
    "load_dotenv(find_dotenv(), override=True)\n",
    "api_key = os.environ.get('GOOGLE_API_KEY')\n",
    "genai.configure(api_key=api_key)"
   ]
  },
  {
   "cell_type": "code",
   "execution_count": 3,
   "id": "0d0f1532-e4a0-4727-af42-0d74bf4291a2",
   "metadata": {},
   "outputs": [
    {
     "name": "stdout",
     "output_type": "stream",
     "text": [
      "I don't have a father in the traditional sense. I'm a large language model, a computer program created by Google.  You could consider my \"parents\" to be the researchers and engineers at Google who designed and built me.\n",
      "\n"
     ]
    }
   ],
   "source": [
    "# Create the model\n",
    "generation_config = {\n",
    "  \"temperature\": 0.4,\n",
    "  \"top_p\": 0.95,\n",
    "  \"top_k\": 40,\n",
    "  \"max_output_tokens\": 8192,\n",
    "  \"response_mime_type\": \"text/plain\",\n",
    "}\n",
    "\n",
    "model = genai.GenerativeModel(\"gemini-1.5-pro-002\")\n",
    "\n",
    "# get text responses from the model\n",
    "response = model.generate_content(\"who is your father?\")\n",
    "\n",
    "print(response.text)"
   ]
  },
  {
   "cell_type": "code",
   "execution_count": 4,
   "id": "b612d03d-9409-4ebb-8afc-c053dd5f64d2",
   "metadata": {},
   "outputs": [
    {
     "name": "stdout",
     "output_type": "stream",
     "text": [
      "This salad looks delicious! It has a variety of fresh ingredients like avocado, tomatoes, radishes, red onions, and black beans. It's also topped with a flavorful pesto dressing and crumbled feta cheese. I'm sure it's a healthy and satisfying meal.\n",
      "-------------------------\n",
      "This is a salad with avocado, black beans, mango, red onion, radishes, tomatoes and feta cheese. It is topped with a pesto dressing.\n",
      "\n",
      "**Ingredients:**\n",
      "\n",
      "* 1 avocado, diced\n",
      "* 1 can black beans, rinsed and drained\n",
      "* 1 mango, diced\n",
      "* 1/2 red onion, thinly sliced\n",
      "* 1/2 cup radishes, thinly sliced\n",
      "* 1 cup cherry tomatoes, halved\n",
      "* 1/2 cup feta cheese, crumbled\n",
      "* Pesto dressing (recipe below)\n",
      "\n",
      "**Pesto Dressing:**\n",
      "\n",
      "* 1 cup fresh basil leaves\n",
      "* 1/2 cup grated Parmesan cheese\n",
      "* 1/4 cup olive oil\n",
      "* 2 cloves garlic, minced\n",
      "* 1/4 teaspoon salt\n",
      "* 1/4 teaspoon black pepper\n",
      "\n",
      "**Instructions:**\n",
      "\n",
      "1. **Make the pesto dressing:** Combine all pesto dressing ingredients in a food processor and blend until smooth. Set aside.\n",
      "2. **Combine the salad ingredients:** In a large bowl, combine the avocado, black beans, mango, red onion, radishes, tomatoes, and feta cheese.\n",
      "3. **Add the dressing:** Pour the pesto dressing over the salad and toss to coat. \n",
      "4. **Serve immediately.**\n",
      "\n",
      "Enjoy!\n"
     ]
    }
   ],
   "source": [
    "# import PIl and open the image\n",
    "from PIL import Image\n",
    "myImg = Image.open('salad.jpg')\n",
    "\n",
    "# make the model and give it the image as input\n",
    "model = genai.GenerativeModel('gemini-1.5-flash')\n",
    "response = model.generate_content(myImg)\n",
    "print(response.text)\n",
    "print('-'*25)\n",
    "\n",
    "# get response from the model by feeding it both image and prompts\n",
    "prompt = 'what is this and how to make this'\n",
    "response = model.generate_content([prompt, myImg])\n",
    "print(response.text)"
   ]
  },
  {
   "cell_type": "code",
   "execution_count": null,
   "id": "b8d57be9-5352-45e5-88ae-a3dcdff46d52",
   "metadata": {},
   "outputs": [],
   "source": []
  }
 ],
 "metadata": {
  "kernelspec": {
   "display_name": "Python 3 (ipykernel)",
   "language": "python",
   "name": "python3"
  },
  "language_info": {
   "codemirror_mode": {
    "name": "ipython",
    "version": 3
   },
   "file_extension": ".py",
   "mimetype": "text/x-python",
   "name": "python",
   "nbconvert_exporter": "python",
   "pygments_lexer": "ipython3",
   "version": "3.12.6"
  }
 },
 "nbformat": 4,
 "nbformat_minor": 5
}
