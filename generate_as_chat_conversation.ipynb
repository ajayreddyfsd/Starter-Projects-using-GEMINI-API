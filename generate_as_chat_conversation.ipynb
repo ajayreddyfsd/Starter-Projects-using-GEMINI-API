{
 "cells": [
  {
   "cell_type": "code",
   "execution_count": 2,
   "id": "24a5940b-1800-4d71-b698-35eacaf4f431",
   "metadata": {},
   "outputs": [],
   "source": [
    "import google.generativeai as genai\n",
    "import os\n",
    "from dotenv import load_dotenv, find_dotenv"
   ]
  },
  {
   "cell_type": "code",
   "execution_count": 3,
   "id": "759b08c7-c628-428d-8317-64af7b0290f4",
   "metadata": {},
   "outputs": [],
   "source": [
    "load_dotenv(find_dotenv(), override=True)\n",
    "api_key = os.environ.get('GOOGLE_API_KEY')\n",
    "genai.configure(api_key=api_key)"
   ]
  },
  {
   "cell_type": "code",
   "execution_count": 4,
   "id": "09b1724d-41e3-49de-80a5-76444783b79a",
   "metadata": {},
   "outputs": [
    {
     "name": "stdout",
     "output_type": "stream",
     "text": [
      "Defining \"trendy\" news is tricky, as it blends significant events with viral moments and evolving social interests.  Here's a take on 10 news trends that dominated the 2010s, reflecting a blend of impact and widespread discussion:\n",
      "\n",
      "1. **The Rise of Social Media & Mobile Connectivity:**  This isn't a single event, but a pervasive shift.  The decade saw smartphones become ubiquitous, and platforms like Facebook, Twitter, Instagram, and Snapchat reshape how we consume and share news, impacting everything from political discourse to social movements.\n",
      "\n",
      "2. **The Arab Spring (2010-2012):**  A wave of pro-democracy uprisings across the Arab world, fueled by social media and a desire for political change.  While initial optimism faded in many nations, it marked a pivotal moment in the region's history and highlighted the power of online organizing.\n",
      "\n",
      "3. **The 2008 Financial Crisis & its Aftermath:** While it began in the late 2000s, the economic fallout, including austerity measures and Occupy Wall Street protests, shaped the early part of the decade and continues to influence economic discussions today.\n",
      "\n",
      "4. **Marriage Equality Legalized in the US (2015):** The landmark Supreme Court decision legalizing same-sex marriage nationwide was a culmination of decades of activism and a major victory for LGBTQ+ rights.\n",
      "\n",
      "5. **Black Lives Matter Movement:** Gaining momentum after the Trayvon Martin shooting in 2012, the movement brought widespread attention to systemic racism and police brutality against Black people, sparking protests and driving conversations about racial justice.\n",
      "\n",
      "6. **The Rise of Populism & Nationalism:**  From Brexit in the UK to the election of Donald Trump in the US, a surge in populist and nationalist sentiment characterized the latter half of the decade, fueled in part by economic anxieties and anti-establishment rhetoric.\n",
      "\n",
      "7. **#MeToo Movement (2017):**  The movement brought widespread awareness to sexual harassment and assault, empowering survivors to share their stories and holding perpetrators accountable.  It had a significant impact across industries, from Hollywood to politics.\n",
      "\n",
      "8. **Climate Change Awareness & Activism:**  Extreme weather events, scientific reports, and youth-led movements like Fridays for Future brought the urgency of climate change to the forefront of public consciousness.\n",
      "\n",
      "9. **The Syrian Civil War & Refugee Crisis:** The brutal conflict, beginning in 2011, caused a massive humanitarian crisis, displacing millions and prompting a global debate about refugee resettlement.\n",
      "\n",
      "10. **Streaming Services & the Entertainment Revolution:**  The rise of Netflix, Spotify, and other streaming platforms transformed how we consume media, impacting traditional television, music, and film industries.\n",
      "\n",
      "\n",
      "This list is not exhaustive, and other events could be included depending on the criteria used.  For example, the COVID-19 pandemic started at the very tail end of the decade and drastically reshaped the world moving forward.\n",
      "\n"
     ]
    }
   ],
   "source": [
    "# Create the model\n",
    "generation_config = {\n",
    "  \"temperature\": 1,\n",
    "  \"top_p\": 0.95,\n",
    "  \"top_k\": 40,\n",
    "  \"max_output_tokens\": 8192,\n",
    "  \"response_mime_type\": \"text/plain\",\n",
    "}\n",
    "\n",
    "model = genai.GenerativeModel(model_name=\"gemini-1.5-pro-002\", generation_config=generation_config)\n",
    "chat_session = model.start_chat(history=[])\n",
    "\n",
    "response = chat_session.send_message(\"top 10 trendy news of the decade\")\n",
    "print(response.text)\n"
   ]
  },
  {
   "cell_type": "code",
   "execution_count": 6,
   "id": "f2a47f5b-d473-4de4-b060-5cedbd05e773",
   "metadata": {},
   "outputs": [
    {
     "name": "stdout",
     "output_type": "stream",
     "text": [
      "Combining the impact of those top 10 news trends from the 2010s reveals some significant repercussions that continue to shape our world:\n",
      "\n",
      "1. **Increased Polarization and Fragmentation of Society:** The rise of social media, populist movements, and highly divisive political events (Brexit, the 2016 US election) contributed to echo chambers, filter bubbles, and increased polarization.  People are more entrenched in their own viewpoints, making constructive dialogue and compromise more challenging.  The Black Lives Matter and #MeToo movements, while vital for social progress, also fueled divisions along ideological lines.\n",
      "\n",
      "2. **Erosion of Trust in Institutions:** The financial crisis, revelations about government surveillance, and the perceived failure of traditional media to accurately represent diverse perspectives contributed to declining trust in institutions like governments, banks, and the press.  This erosion of trust creates fertile ground for misinformation and makes it harder to address complex societal challenges.\n",
      "\n",
      "3. **Accelerated Pace of Change and Disruption:** The rapid advancement of technology, the interconnectedness fostered by globalization, and the constant influx of information create a sense of constant flux and uncertainty. This accelerated pace of change disrupts traditional industries, alters social interactions, and presents new challenges for individuals and societies to adapt.  The shift to streaming services is just one example of this broader trend of technological disruption.\n",
      "\n"
     ]
    }
   ],
   "source": [
    "response = chat_session.send_message(\"what are the top 3 repurcussions of those news combined?\")\n",
    "print(response.text)"
   ]
  },
  {
   "cell_type": "code",
   "execution_count": 8,
   "id": "67bf30b2-187d-4fde-8b73-c2179d617905",
   "metadata": {},
   "outputs": [
    {
     "name": "stdout",
     "output_type": "stream",
     "text": [
      "[parts {\n",
      "  text: \"top 10 trendy news of the decade\"\n",
      "}\n",
      "role: \"user\"\n",
      ", parts {\n",
      "  text: \"Defining \\\"trendy\\\" news is tricky, as it blends significant events with viral moments and evolving social interests.  Here\\'s a take on 10 news trends that dominated the 2010s, reflecting a blend of impact and widespread discussion:\\n\\n1. **The Rise of Social Media & Mobile Connectivity:**  This isn\\'t a single event, but a pervasive shift.  The decade saw smartphones become ubiquitous, and platforms like Facebook, Twitter, Instagram, and Snapchat reshape how we consume and share news, impacting everything from political discourse to social movements.\\n\\n2. **The Arab Spring (2010-2012):**  A wave of pro-democracy uprisings across the Arab world, fueled by social media and a desire for political change.  While initial optimism faded in many nations, it marked a pivotal moment in the region\\'s history and highlighted the power of online organizing.\\n\\n3. **The 2008 Financial Crisis & its Aftermath:** While it began in the late 2000s, the economic fallout, including austerity measures and Occupy Wall Street protests, shaped the early part of the decade and continues to influence economic discussions today.\\n\\n4. **Marriage Equality Legalized in the US (2015):** The landmark Supreme Court decision legalizing same-sex marriage nationwide was a culmination of decades of activism and a major victory for LGBTQ+ rights.\\n\\n5. **Black Lives Matter Movement:** Gaining momentum after the Trayvon Martin shooting in 2012, the movement brought widespread attention to systemic racism and police brutality against Black people, sparking protests and driving conversations about racial justice.\\n\\n6. **The Rise of Populism & Nationalism:**  From Brexit in the UK to the election of Donald Trump in the US, a surge in populist and nationalist sentiment characterized the latter half of the decade, fueled in part by economic anxieties and anti-establishment rhetoric.\\n\\n7. **#MeToo Movement (2017):**  The movement brought widespread awareness to sexual harassment and assault, empowering survivors to share their stories and holding perpetrators accountable.  It had a significant impact across industries, from Hollywood to politics.\\n\\n8. **Climate Change Awareness & Activism:**  Extreme weather events, scientific reports, and youth-led movements like Fridays for Future brought the urgency of climate change to the forefront of public consciousness.\\n\\n9. **The Syrian Civil War & Refugee Crisis:** The brutal conflict, beginning in 2011, caused a massive humanitarian crisis, displacing millions and prompting a global debate about refugee resettlement.\\n\\n10. **Streaming Services & the Entertainment Revolution:**  The rise of Netflix, Spotify, and other streaming platforms transformed how we consume media, impacting traditional television, music, and film industries.\\n\\n\\nThis list is not exhaustive, and other events could be included depending on the criteria used.  For example, the COVID-19 pandemic started at the very tail end of the decade and drastically reshaped the world moving forward.\\n\"\n",
      "}\n",
      "role: \"model\"\n",
      ", parts {\n",
      "  text: \"what are the top 3 repurcussions of those news combined?\"\n",
      "}\n",
      "role: \"user\"\n",
      ", parts {\n",
      "  text: \"Combining the impact of those top 10 news trends from the 2010s reveals some significant repercussions that continue to shape our world:\\n\\n1. **Increased Polarization and Fragmentation of Society:** The rise of social media, populist movements, and highly divisive political events (Brexit, the 2016 US election) contributed to echo chambers, filter bubbles, and increased polarization.  People are more entrenched in their own viewpoints, making constructive dialogue and compromise more challenging.  The Black Lives Matter and #MeToo movements, while vital for social progress, also fueled divisions along ideological lines.\\n\\n2. **Erosion of Trust in Institutions:** The financial crisis, revelations about government surveillance, and the perceived failure of traditional media to accurately represent diverse perspectives contributed to declining trust in institutions like governments, banks, and the press.  This erosion of trust creates fertile ground for misinformation and makes it harder to address complex societal challenges.\\n\\n3. **Accelerated Pace of Change and Disruption:** The rapid advancement of technology, the interconnectedness fostered by globalization, and the constant influx of information create a sense of constant flux and uncertainty. This accelerated pace of change disrupts traditional industries, alters social interactions, and presents new challenges for individuals and societies to adapt.  The shift to streaming services is just one example of this broader trend of technological disruption.\\n\"\n",
      "}\n",
      "role: \"model\"\n",
      "]\n"
     ]
    }
   ],
   "source": [
    "print(chat_session.history)"
   ]
  },
  {
   "cell_type": "code",
   "execution_count": 30,
   "id": "365eb8f1-d164-4a15-8c32-caba99917995",
   "metadata": {},
   "outputs": [
    {
     "name": "stdout",
     "output_type": "stream",
     "text": [
      "user - top 10 trendy news of the decade\n",
      "**************************************************\n",
      "model - Defining \"trendy\" news is tricky, as it blends significant events with viral moments and evolving social interests.  Here's a take on 10 news trends that dominated the 2010s, reflecting a blend of impact and widespread discussion:\n",
      "\n",
      "1. **The Rise of Social Media & Mobile Connectivity:**  This isn't a single event, but a pervasive shift.  The decade saw smartphones become ubiquitous, and platforms like Facebook, Twitter, Instagram, and Snapchat reshape how we consume and share news, impacting everything from political discourse to social movements.\n",
      "\n",
      "2. **The Arab Spring (2010-2012):**  A wave of pro-democracy uprisings across the Arab world, fueled by social media and a desire for political change.  While initial optimism faded in many nations, it marked a pivotal moment in the region's history and highlighted the power of online organizing.\n",
      "\n",
      "3. **The 2008 Financial Crisis & its Aftermath:** While it began in the late 2000s, the economic fallout, including austerity measures and Occupy Wall Street protests, shaped the early part of the decade and continues to influence economic discussions today.\n",
      "\n",
      "4. **Marriage Equality Legalized in the US (2015):** The landmark Supreme Court decision legalizing same-sex marriage nationwide was a culmination of decades of activism and a major victory for LGBTQ+ rights.\n",
      "\n",
      "5. **Black Lives Matter Movement:** Gaining momentum after the Trayvon Martin shooting in 2012, the movement brought widespread attention to systemic racism and police brutality against Black people, sparking protests and driving conversations about racial justice.\n",
      "\n",
      "6. **The Rise of Populism & Nationalism:**  From Brexit in the UK to the election of Donald Trump in the US, a surge in populist and nationalist sentiment characterized the latter half of the decade, fueled in part by economic anxieties and anti-establishment rhetoric.\n",
      "\n",
      "7. **#MeToo Movement (2017):**  The movement brought widespread awareness to sexual harassment and assault, empowering survivors to share their stories and holding perpetrators accountable.  It had a significant impact across industries, from Hollywood to politics.\n",
      "\n",
      "8. **Climate Change Awareness & Activism:**  Extreme weather events, scientific reports, and youth-led movements like Fridays for Future brought the urgency of climate change to the forefront of public consciousness.\n",
      "\n",
      "9. **The Syrian Civil War & Refugee Crisis:** The brutal conflict, beginning in 2011, caused a massive humanitarian crisis, displacing millions and prompting a global debate about refugee resettlement.\n",
      "\n",
      "10. **Streaming Services & the Entertainment Revolution:**  The rise of Netflix, Spotify, and other streaming platforms transformed how we consume media, impacting traditional television, music, and film industries.\n",
      "\n",
      "\n",
      "This list is not exhaustive, and other events could be included depending on the criteria used.  For example, the COVID-19 pandemic started at the very tail end of the decade and drastically reshaped the world moving forward.\n",
      "\n",
      "**************************************************\n",
      "user - what are the top 3 repurcussions of those news combined?\n",
      "**************************************************\n",
      "model - Combining the impact of those top 10 news trends from the 2010s reveals some significant repercussions that continue to shape our world:\n",
      "\n",
      "1. **Increased Polarization and Fragmentation of Society:** The rise of social media, populist movements, and highly divisive political events (Brexit, the 2016 US election) contributed to echo chambers, filter bubbles, and increased polarization.  People are more entrenched in their own viewpoints, making constructive dialogue and compromise more challenging.  The Black Lives Matter and #MeToo movements, while vital for social progress, also fueled divisions along ideological lines.\n",
      "\n",
      "2. **Erosion of Trust in Institutions:** The financial crisis, revelations about government surveillance, and the perceived failure of traditional media to accurately represent diverse perspectives contributed to declining trust in institutions like governments, banks, and the press.  This erosion of trust creates fertile ground for misinformation and makes it harder to address complex societal challenges.\n",
      "\n",
      "3. **Accelerated Pace of Change and Disruption:** The rapid advancement of technology, the interconnectedness fostered by globalization, and the constant influx of information create a sense of constant flux and uncertainty. This accelerated pace of change disrupts traditional industries, alters social interactions, and presents new challenges for individuals and societies to adapt.  The shift to streaming services is just one example of this broader trend of technological disruption.\n",
      "\n",
      "**************************************************\n"
     ]
    }
   ],
   "source": [
    "for chat in chat_session.history:\n",
    "    print(chat.role, '-', chat.parts[0].text)\n",
    "    print('*'*50)"
   ]
  },
  {
   "cell_type": "code",
   "execution_count": null,
   "id": "9427c782-87f9-412c-8ccc-24778a06f85c",
   "metadata": {},
   "outputs": [],
   "source": []
  }
 ],
 "metadata": {
  "kernelspec": {
   "display_name": "Python 3 (ipykernel)",
   "language": "python",
   "name": "python3"
  },
  "language_info": {
   "codemirror_mode": {
    "name": "ipython",
    "version": 3
   },
   "file_extension": ".py",
   "mimetype": "text/x-python",
   "name": "python",
   "nbconvert_exporter": "python",
   "pygments_lexer": "ipython3",
   "version": "3.12.6"
  }
 },
 "nbformat": 4,
 "nbformat_minor": 5
}
