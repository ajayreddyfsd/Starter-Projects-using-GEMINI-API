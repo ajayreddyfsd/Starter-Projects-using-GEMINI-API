{
 "cells": [
  {
   "cell_type": "code",
   "execution_count": 27,
   "id": "c3c28390-32fa-49fd-83a7-557881c31067",
   "metadata": {},
   "outputs": [],
   "source": [
    "import google.generativeai as genai\n",
    "import os\n",
    "from dotenv import load_dotenv, find_dotenv"
   ]
  },
  {
   "cell_type": "markdown",
   "id": "90642b2d-3ea2-4b13-8f27-e11166ec4c37",
   "metadata": {},
   "source": [
    "# to find the .env file and then to load the env vars inside it"
   ]
  },
  {
   "cell_type": "code",
   "execution_count": 28,
   "id": "91a608d2-3842-41b2-963f-17378be838f2",
   "metadata": {},
   "outputs": [],
   "source": [
    "load_dotenv(find_dotenv(), override=True)\n",
    "api_key = os.environ.get('GOOGLE_API_KEY')\n",
    "genai.configure(api_key=api_key)"
   ]
  },
  {
   "cell_type": "code",
   "execution_count": 29,
   "id": "0d0f1532-e4a0-4727-af42-0d74bf4291a2",
   "metadata": {},
   "outputs": [
    {
     "name": "stdout",
     "output_type": "stream",
     "text": [
      "I don't have a father.  I'm a large language model, a computer program created by Google.  I don't have parents or a family in the traditional sense.  The team of engineers and researchers at Google who designed and built me are the closest analogy.\n",
      "\n"
     ]
    }
   ],
   "source": [
    "# Create the model\n",
    "generation_config = {\n",
    "  \"temperature\": 0.4,\n",
    "  \"top_p\": 0.95,\n",
    "  \"top_k\": 40,\n",
    "  \"max_output_tokens\": 8192,\n",
    "  \"response_mime_type\": \"text/plain\",\n",
    "}\n",
    "\n",
    "model = genai.GenerativeModel(\n",
    "  model_name=\"gemini-1.5-pro-002\",\n",
    "  generation_config=generation_config,\n",
    ")\n",
    "\n",
    "chat_session = model.start_chat(\n",
    "  history=[\n",
    "  ]\n",
    ")\n",
    "\n",
    "# get text responses from the model\n",
    "response = chat_session.send_message(\"who is your father?\")\n",
    "\n",
    "print(response.text)"
   ]
  },
  {
   "cell_type": "code",
   "execution_count": 30,
   "id": "b612d03d-9409-4ebb-8afc-c053dd5f64d2",
   "metadata": {},
   "outputs": [
    {
     "name": "stdout",
     "output_type": "stream",
     "text": [
      "This is a delicious-looking salad with fresh ingredients like avocado, tomato, red onion, and black beans. The salad is topped with a green dressing, likely pesto, and crumbled feta cheese. There are two wooden spoons in the photo, one with a serving spoon at the end. The salad is served in a white bowl and looks very appetizing.\n",
      "-------------------------\n",
      "This is a salad with avocado, tomatoes, red onion, radish, black beans, feta cheese, and a green dressing.  It's a very colorful and delicious salad that is sure to please everyone.\n",
      "\n",
      "**Ingredients**\n",
      "* 1 avocado, diced\n",
      "* 1 cup chopped tomatoes\n",
      "* 1/2 cup red onion, thinly sliced\n",
      "* 1/2 cup radishes, sliced\n",
      "* 1 cup black beans, rinsed and drained\n",
      "* 1/2 cup feta cheese, crumbled\n",
      "* 1/4 cup green dressing (see recipe below)\n",
      "* Salt and pepper to taste\n",
      "\n",
      "**Instructions**\n",
      "\n",
      "1. Combine all ingredients in a large bowl and toss to coat.\n",
      "2. Serve immediately or chill for later.\n",
      "\n",
      "**Green Dressing**\n",
      "* 1/2 cup olive oil\n",
      "* 1/4 cup lemon juice\n",
      "* 1/4 cup chopped fresh parsley\n",
      "* 1 clove garlic, minced\n",
      "* Salt and pepper to taste\n",
      "\n",
      "**Instructions**\n",
      "\n",
      "1. Combine all ingredients in a blender and blend until smooth.\n",
      "2. Store in the refrigerator until ready to use. \n",
      "\n",
      "This is just a basic recipe, feel free to adjust the ingredients to your liking. For example, you could add other vegetables like cucumber or bell peppers, or use a different type of cheese. You can also use a store-bought dressing if you don’t want to make your own.\n"
     ]
    }
   ],
   "source": [
    "# import PIl and open the image\n",
    "from PIL import Image\n",
    "myImg = Image.open('salad.jpg')\n",
    "\n",
    "# make the model and give it the image as input\n",
    "model = genai.GenerativeModel('gemini-1.5-flash')\n",
    "response = model.generate_content(myImg)\n",
    "print(response.text)\n",
    "print('-'*25)\n",
    "\n",
    "# get response from the model by feeding it both image and prompts\n",
    "prompt = 'what is this and how to make this'\n",
    "response = model.generate_content([prompt, myImg])\n",
    "print(response.text)"
   ]
  },
  {
   "cell_type": "code",
   "execution_count": null,
   "id": "b8d57be9-5352-45e5-88ae-a3dcdff46d52",
   "metadata": {},
   "outputs": [],
   "source": []
  }
 ],
 "metadata": {
  "kernelspec": {
   "display_name": "Python 3 (ipykernel)",
   "language": "python",
   "name": "python3"
  },
  "language_info": {
   "codemirror_mode": {
    "name": "ipython",
    "version": 3
   },
   "file_extension": ".py",
   "mimetype": "text/x-python",
   "name": "python",
   "nbconvert_exporter": "python",
   "pygments_lexer": "ipython3",
   "version": "3.12.6"
  }
 },
 "nbformat": 4,
 "nbformat_minor": 5
}
